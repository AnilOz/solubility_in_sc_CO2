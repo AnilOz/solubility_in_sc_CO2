{
 "cells": [
  {
   "cell_type": "markdown",
   "metadata": {
    "id": "TTWj0A_x_zql"
   },
   "source": [
    "## Solubility o Biphenyl in Supercritical CO2 with Cosolvent"
   ]
  },
  {
   "cell_type": "markdown",
   "metadata": {
    "id": "DpsUE9oBGMWx"
   },
   "source": [
    "### Colab Adjustments"
   ]
  },
  {
   "cell_type": "code",
   "execution_count": 26,
   "metadata": {
    "colab": {
     "base_uri": "https://localhost:8080/"
    },
    "executionInfo": {
     "elapsed": 2653,
     "status": "ok",
     "timestamp": 1649357613783,
     "user": {
      "displayName": "Mustafa Anıl Öz",
      "userId": "14802831192679516792"
     },
     "user_tz": -180
    },
    "id": "m2uJVGyuDtiN",
    "outputId": "ddc79144-2019-4e07-ce89-3945e7df4f5f"
   },
   "outputs": [
    {
     "name": "stdout",
     "output_type": "stream",
     "text": [
      "Drive already mounted at /content/gdrive; to attempt to forcibly remount, call drive.mount(\"/content/gdrive\", force_remount=True).\n"
     ]
    }
   ],
   "source": [
    "from google.colab import drive\n",
    "drive.mount('/content/gdrive')"
   ]
  },
  {
   "cell_type": "code",
   "execution_count": 27,
   "metadata": {
    "colab": {
     "base_uri": "https://localhost:8080/"
    },
    "executionInfo": {
     "elapsed": 32,
     "status": "ok",
     "timestamp": 1649357613787,
     "user": {
      "displayName": "Mustafa Anıl Öz",
      "userId": "14802831192679516792"
     },
     "user_tz": -180
    },
    "id": "-jGWHeFmD461",
    "outputId": "3a7aec5c-6ffc-4d6b-ace6-8c7e6cc66cd3"
   },
   "outputs": [
    {
     "name": "stdout",
     "output_type": "stream",
     "text": [
      "/content/gdrive/MyDrive/Python_Projects/solubility_in_sc_CO2\n"
     ]
    }
   ],
   "source": [
    "%cd /content/gdrive/MyDrive/Python_Projects/solubility_in_sc_CO2"
   ]
  },
  {
   "cell_type": "markdown",
   "metadata": {
    "id": "USzr3ZJoDnSX"
   },
   "source": [
    "### Importing Packages"
   ]
  },
  {
   "cell_type": "code",
   "execution_count": 28,
   "metadata": {
    "colab": {
     "base_uri": "https://localhost:8080/"
    },
    "executionInfo": {
     "elapsed": 3085,
     "status": "ok",
     "timestamp": 1649357616850,
     "user": {
      "displayName": "Mustafa Anıl Öz",
      "userId": "14802831192679516792"
     },
     "user_tz": -180
    },
    "id": "uj2sZDIdpseB",
    "outputId": "f7d91cc3-6b48-4e07-a490-25bab9ff4006"
   },
   "outputs": [
    {
     "name": "stdout",
     "output_type": "stream",
     "text": [
      "Requirement already satisfied: pyrenn in /usr/local/lib/python3.7/dist-packages (0.1)\n",
      "Requirement already satisfied: numpy in /usr/local/lib/python3.7/dist-packages (from pyrenn) (1.21.5)\n"
     ]
    }
   ],
   "source": [
    "! pip install pyrenn"
   ]
  },
  {
   "cell_type": "code",
   "execution_count": 29,
   "metadata": {
    "executionInfo": {
     "elapsed": 58,
     "status": "ok",
     "timestamp": 1649357616854,
     "user": {
      "displayName": "Mustafa Anıl Öz",
      "userId": "14802831192679516792"
     },
     "user_tz": -180
    },
    "id": "ctrbM7tZDnSk"
   },
   "outputs": [],
   "source": [
    "from fugacity_coeff import fugacity_scf\n",
    "from mixing_parameters import a_mix, a_PRK, alpha, b_mix, b_PRK, a_star, b_star, a_m_cosolvent, a_s_cosolvent, b_m_cosolvent, b_s_cosolvent\n",
    "from Z_prk import Z_PRK\n",
    "from P_sat import P_sat\n",
    "from find_solubility import find_solubility_cosol, find_solubility\n",
    "from results import write_to_excel\n",
    "from evaluate_model import AARD, plot_predictions, model_predictions\n",
    " "
   ]
  },
  {
   "cell_type": "code",
   "execution_count": 30,
   "metadata": {
    "executionInfo": {
     "elapsed": 53,
     "status": "ok",
     "timestamp": 1649357616858,
     "user": {
      "displayName": "Mustafa Anıl Öz",
      "userId": "14802831192679516792"
     },
     "user_tz": -180
    },
    "id": "jq_Y2RASDnSt"
   },
   "outputs": [],
   "source": [
    "import numpy as np \n",
    "import sympy as sp\n",
    "from sympy import pi\n",
    "from sympy.abc import i\n",
    "import matplotlib as mpl\n",
    "import matplotlib.pyplot as plt\n",
    "import pandas as pd\n",
    "%matplotlib inline\n",
    "\n",
    "from IPython.display import display\n",
    "from sympy.interactive import init_printing\n",
    "init_printing(use_latex=True)\n",
    "from sympy import pprint"
   ]
  },
  {
   "cell_type": "markdown",
   "metadata": {
    "id": "CF_OXh8oDnSw"
   },
   "source": [
    "### Inputs"
   ]
  },
  {
   "cell_type": "markdown",
   "metadata": {
    "id": "xciwPMBrDnSz"
   },
   "source": [
    "#### Temperature and Pressure Inputs"
   ]
  },
  {
   "cell_type": "code",
   "execution_count": 31,
   "metadata": {
    "executionInfo": {
     "elapsed": 53,
     "status": "ok",
     "timestamp": 1649357616859,
     "user": {
      "displayName": "Mustafa Anıl Öz",
      "userId": "14802831192679516792"
     },
     "user_tz": -180
    },
    "id": "98okgNEVDnS0"
   },
   "outputs": [],
   "source": [
    "P_num = np.arange(start=100000, stop=20000000, step=100000) # Pa\n",
    "T_num = 313.15 # in Kelvins\n",
    "R_num = 8.314 #Pa . m3 . mol-1 . K-1"
   ]
  },
  {
   "cell_type": "markdown",
   "metadata": {
    "id": "_4wEoz_uATyw"
   },
   "source": [
    "#### Binary Interaction Parameters"
   ]
  },
  {
   "cell_type": "code",
   "execution_count": 32,
   "metadata": {
    "executionInfo": {
     "elapsed": 55,
     "status": "ok",
     "timestamp": 1649357616862,
     "user": {
      "displayName": "Mustafa Anıl Öz",
      "userId": "14802831192679516792"
     },
     "user_tz": -180
    },
    "id": "32Gp106rDnS4"
   },
   "outputs": [],
   "source": [
    "k_num = np.array([[0, 0.14356282,0],[0.14356282,0, 0],[0,0,0]])\n",
    "l_num = np.array([[0,0.16855572,0],[0.16855572,0,0],[0,0,0]])"
   ]
  },
  {
   "cell_type": "markdown",
   "metadata": {
    "id": "UducFq5hDnS7"
   },
   "source": [
    "#### Biphenyl Properties"
   ]
  },
  {
   "cell_type": "code",
   "execution_count": 34,
   "metadata": {
    "executionInfo": {
     "elapsed": 55,
     "status": "ok",
     "timestamp": 1649357616864,
     "user": {
      "displayName": "Mustafa Anıl Öz",
      "userId": "14802831192679516792"
     },
     "user_tz": -180
    },
    "id": "f_8a_GhsDnTB"
   },
   "outputs": [],
   "source": [
    "T_c_bi = 749.52\n",
    "P_c_bi = 2315000\n",
    "w_bi = 0.820\n",
    "v_solid_num = 182.14/10**(6) # m3/mol"
   ]
  },
  {
   "cell_type": "code",
   "execution_count": 35,
   "metadata": {
    "executionInfo": {
     "elapsed": 57,
     "status": "ok",
     "timestamp": 1649357616866,
     "user": {
      "displayName": "Mustafa Anıl Öz",
      "userId": "14802831192679516792"
     },
     "user_tz": -180
    },
    "id": "5tmqkVo1DnTZ"
   },
   "outputs": [],
   "source": [
    "P_sub_num = 0.0897"
   ]
  },
  {
   "cell_type": "markdown",
   "metadata": {
    "id": "I8pIgJepDnTa"
   },
   "source": [
    "### CO2 Properties"
   ]
  },
  {
   "cell_type": "code",
   "execution_count": 36,
   "metadata": {
    "executionInfo": {
     "elapsed": 53,
     "status": "ok",
     "timestamp": 1649357616867,
     "user": {
      "displayName": "Mustafa Anıl Öz",
      "userId": "14802831192679516792"
     },
     "user_tz": -180
    },
    "id": "5Wrg22d6DnTb"
   },
   "outputs": [],
   "source": [
    "T_c_co2 = 304.25\n",
    "P_c_co2 = 7377300 # Pa\n",
    "w_co2 = 0.225"
   ]
  },
  {
   "cell_type": "markdown",
   "metadata": {
    "id": "QSZ4nJjLDnTc"
   },
   "source": [
    "### Ethanol Properties"
   ]
  },
  {
   "cell_type": "code",
   "execution_count": 37,
   "metadata": {
    "executionInfo": {
     "elapsed": 56,
     "status": "ok",
     "timestamp": 1649357616871,
     "user": {
      "displayName": "Mustafa Anıl Öz",
      "userId": "14802831192679516792"
     },
     "user_tz": -180
    },
    "id": "haPRAFWDDnTd"
   },
   "outputs": [],
   "source": [
    "T_c_eth = 516.2\n",
    "P_c_eth= 6140000 # Pa\n",
    "w_eth= 0.635"
   ]
  },
  {
   "cell_type": "markdown",
   "metadata": {
    "id": "qivcx9oXDnTi"
   },
   "source": [
    "### Calculations"
   ]
  },
  {
   "cell_type": "markdown",
   "metadata": {
    "id": "nyzUeRN4DnTi"
   },
   "source": [
    "#### Mixing Parameters"
   ]
  },
  {
   "cell_type": "code",
   "execution_count": 38,
   "metadata": {
    "executionInfo": {
     "elapsed": 58,
     "status": "ok",
     "timestamp": 1649357616873,
     "user": {
      "displayName": "Mustafa Anıl Öz",
      "userId": "14802831192679516792"
     },
     "user_tz": -180
    },
    "id": "Z3uzSyb_DnTk"
   },
   "outputs": [],
   "source": [
    "alpha_co2 = alpha(w_co2, T_num, T_c_co2)\n",
    "alpha_ibu = alpha(w_ibu, T_num, T_c_ibu)\n",
    "alpha_eth = alpha(w_eth, T_num, T_c_eth)\n",
    "\n",
    "a_PRK_CO2 = a_PRK(P_c_co2, T_c_co2, R_num) * alpha_co2\n",
    "a_PRK_ibu = a_PRK(P_c_ibu, T_c_ibu, R_num) * alpha_ibu\n",
    "a_PRK_eth = a_PRK(P_c_eth, T_c_eth, R_num) * alpha_eth\n",
    "\n",
    "b_PRK_CO2 = b_PRK(P_c_co2, T_c_co2, R_num)\n",
    "b_PRK_ibu = b_PRK(P_c_ibu, T_c_ibu, R_num)\n",
    "b_PRK_eth = b_PRK(P_c_eth, T_c_eth, R_num)\n",
    "\n",
    "# print(alpha_co2, alpha_ibu, a_PRK_CO2, a_PRK_ibu, b_PRK_CO2, b_PRK_ibu)"
   ]
  },
  {
   "cell_type": "markdown",
   "metadata": {
    "id": "a-XXJps3fn7_"
   },
   "source": [
    "### Calculation of solubility step by step"
   ]
  },
  {
   "cell_type": "code",
   "execution_count": 39,
   "metadata": {
    "colab": {
     "base_uri": "https://localhost:8080/",
     "height": 1000
    },
    "executionInfo": {
     "elapsed": 9970,
     "status": "ok",
     "timestamp": 1649357626786,
     "user": {
      "displayName": "Mustafa Anıl Öz",
      "userId": "14802831192679516792"
     },
     "user_tz": -180
    },
    "id": "6unei3RnRsed",
    "outputId": "6850ed62-fca3-4f0e-e1e1-17280e5bd41d"
   },
   "outputs": [
    {
     "name": "stdout",
     "output_type": "stream",
     "text": [
      "\n",
      "Calculation of constant a_mix in Van der Vaals mixing rules\n",
      "\n"
     ]
    },
    {
     "data": {
      "text/latex": [
       "$\\displaystyle \\sum_{\\substack{0 \\leq j \\leq 1\\\\0 \\leq i \\leq 1}} {a}_{\\left( i, \\  j\\right)} {y}_{i} {y}_{j}$"
      ],
      "text/plain": [
       "  1     1                      \n",
       " ___   ___                     \n",
       " ╲     ╲                       \n",
       "  ╲     ╲                      \n",
       "  ╱     ╱   a[(i, j)]⋅y[i]⋅y[j]\n",
       " ╱     ╱                       \n",
       " ‾‾‾   ‾‾‾                     \n",
       "i = 0 j = 0                    "
      ]
     },
     "metadata": {},
     "output_type": "display_data"
    },
    {
     "data": {
      "text/latex": [
       "$\\displaystyle \\sum_{\\substack{0 \\leq j \\leq 1\\\\0 \\leq i \\leq 1}} {y}_{i} {y}_{j} \\left[\\begin{matrix}\\left(1 - {k}_{0,0}\\right) \\sqrt{a_{1}^{2}} & \\sqrt{a_{1} a_{2}} \\left(1 - {k}_{0,1}\\right)\\\\\\sqrt{a_{1} a_{2}} \\left(1 - {k}_{1,0}\\right) & \\left(1 - {k}_{1,1}\\right) \\sqrt{a_{2}^{2}}\\end{matrix}\\right]_{i, j}$"
      ],
      "text/plain": [
       "  1      1                                                                    \n",
       "______ ______                                                                 \n",
       "╲      ╲                                                                      \n",
       " ╲      ╲                                                                     \n",
       "  ╲      ╲              ⎛⎡                 _____                          ⎤⎞  \n",
       "   ╲      ╲             ⎜⎢                ╱   2      _______              ⎥⎟  \n",
       "    ╲      ╲            ⎜⎢(1 - k[0, 0])⋅╲╱  a₁     ╲╱ a₁⋅a₂ ⋅(1 - k[0, 1])⎥⎟  \n",
       "    ╱      ╱  y[i]⋅y[j]⋅⎜⎢                                                ⎥⎟[i\n",
       "   ╱      ╱             ⎜⎢                                          _____ ⎥⎟  \n",
       "  ╱      ╱              ⎜⎢  _______                                ╱   2  ⎥⎟  \n",
       " ╱      ╱               ⎝⎣╲╱ a₁⋅a₂ ⋅(1 - k[1, 0])  (1 - k[1, 1])⋅╲╱  a₂   ⎦⎠  \n",
       "╱      ╱                                                                      \n",
       "‾‾‾‾‾‾ ‾‾‾‾‾‾                                                                 \n",
       "i = 0  j = 0                                                                  \n",
       "\n",
       "    \n",
       "    \n",
       "    \n",
       "    \n",
       "    \n",
       "    \n",
       "    \n",
       ", j]\n",
       "    \n",
       "    \n",
       "    \n",
       "    \n",
       "    \n",
       "    "
      ]
     },
     "metadata": {},
     "output_type": "display_data"
    },
    {
     "data": {
      "image/png": "[encoded data removed]",
      "text/latex": [
       "$\\displaystyle \\left(\\sqrt{a_{1} a_{2}} \\left(1 - {k}_{0,1}\\right) {y}_{1} + \\left(1 - {k}_{0,0}\\right) \\sqrt{a_{1}^{2}} {y}_{0}\\right) {y}_{0} + \\left(\\sqrt{a_{1} a_{2}} \\left(1 - {k}_{1,0}\\right) {y}_{0} + \\left(1 - {k}_{1,1}\\right) \\sqrt{a_{2}^{2}} {y}_{1}\\right) {y}_{1}$"
      ],
      "text/plain": [
       "⎛                                                _____     ⎞        ⎛         \n",
       "⎜  _______                                      ╱   2      ⎟        ⎜  _______\n",
       "⎝╲╱ a₁⋅a₂ ⋅(1 - k[0, 1])⋅y[1] + (1 - k[0, 0])⋅╲╱  a₁  ⋅y[0]⎠⋅y[0] + ⎝╲╱ a₁⋅a₂ \n",
       "\n",
       "                                       _____     ⎞     \n",
       "                                      ╱   2      ⎟     \n",
       "⋅(1 - k[1, 0])⋅y[0] + (1 - k[1, 1])⋅╲╱  a₂  ⋅y[1]⎠⋅y[1]"
      ]
     },
     "metadata": {},
     "output_type": "display_data"
    },
    {
     "data": {
      "image/png": "[encoded data removed]",
      "text/latex": [
       "$\\displaystyle 0.388465393386943$"
      ],
      "text/plain": [
       "0.38846539338694264"
      ]
     },
     "metadata": {},
     "output_type": "display_data"
    },
    {
     "name": "stdout",
     "output_type": "stream",
     "text": [
      "\n",
      "Calculation of constant b_mix in Van der Vaals mixing rules \n",
      "\n"
     ]
    },
    {
     "data": {
      "text/latex": [
       "$\\displaystyle \\sum_{\\substack{0 \\leq j \\leq 1\\\\0 \\leq i \\leq 1}} {b}_{\\left( i, \\  j\\right)} {y}_{i} {y}_{j}$"
      ],
      "text/plain": [
       "  1     1                      \n",
       " ___   ___                     \n",
       " ╲     ╲                       \n",
       "  ╲     ╲                      \n",
       "  ╱     ╱   b[(i, j)]⋅y[i]⋅y[j]\n",
       " ╱     ╱                       \n",
       " ‾‾‾   ‾‾‾                     \n",
       "i = 0 j = 0                    "
      ]
     },
     "metadata": {},
     "output_type": "display_data"
    },
    {
     "data": {
      "text/latex": [
       "$\\displaystyle \\sum_{\\substack{0 \\leq j \\leq 1\\\\0 \\leq i \\leq 1}} {y}_{i} {y}_{j} \\left[\\begin{matrix}2 b_{1} \\left(0.5 - 0.5 {l}_{0,0}\\right) & \\left(0.5 - 0.5 {l}_{0,1}\\right) \\left(b_{1} + b_{2}\\right)\\\\\\left(0.5 - 0.5 {l}_{1,0}\\right) \\left(b_{1} + b_{2}\\right) & 2 b_{2} \\left(0.5 - 0.5 {l}_{1,1}\\right)\\end{matrix}\\right]_{i, j}$"
      ],
      "text/plain": [
       "  1     1                                                                     \n",
       " ____  ____                                                                   \n",
       " ╲     ╲                                                                      \n",
       "  ╲     ╲                                                                     \n",
       "   ╲     ╲            ⎛⎡  2⋅b₁⋅(0.5 - 0.5⋅l[0, 0])     (0.5 - 0.5⋅l[0, 1])⋅(b₁\n",
       "   ╱     ╱  y[i]⋅y[j]⋅⎜⎢                                                      \n",
       "  ╱     ╱             ⎝⎣(0.5 - 0.5⋅l[1, 0])⋅(b₁ + b₂)    2⋅b₂⋅(0.5 - 0.5⋅l[1, \n",
       " ╱     ╱                                                                      \n",
       " ‾‾‾‾  ‾‾‾‾                                                                   \n",
       "i = 0 j = 0                                                                   \n",
       "\n",
       "              \n",
       "              \n",
       "              \n",
       "              \n",
       " + b₂)⎤⎞      \n",
       "      ⎥⎟[i, j]\n",
       "1])   ⎦⎠      \n",
       "              \n",
       "              \n",
       "              "
      ]
     },
     "metadata": {},
     "output_type": "display_data"
    },
    {
     "data": {
      "image/png": "[encoded data removed]",
      "text/latex": [
       "$\\displaystyle \\left(2 b_{1} \\left(0.5 - 0.5 {l}_{0,0}\\right) {y}_{0} + \\left(0.5 - 0.5 {l}_{0,1}\\right) \\left(b_{1} + b_{2}\\right) {y}_{1}\\right) {y}_{0} + \\left(2 b_{2} \\left(0.5 - 0.5 {l}_{1,1}\\right) {y}_{1} + \\left(0.5 - 0.5 {l}_{1,0}\\right) \\left(b_{1} + b_{2}\\right) {y}_{0}\\right) {y}_{1}$"
      ],
      "text/plain": [
       "(2⋅b₁⋅(0.5 - 0.5⋅l[0, 0])⋅y[0] + (0.5 - 0.5⋅l[0, 1])⋅(b₁ + b₂)⋅y[1])⋅y[0] + (2\n",
       "⋅b₂⋅(0.5 - 0.5⋅l[1, 1])⋅y[1] + (0.5 - 0.5⋅l[1, 0])⋅(b₁ + b₂)⋅y[0])⋅y[1]"
      ]
     },
     "metadata": {},
     "output_type": "display_data"
    },
    {
     "data": {
      "image/png": "[encoded data removed]",
      "text/latex": [
       "$\\displaystyle 2.66761269538499 \\cdot 10^{-5}$"
      ],
      "text/plain": [
       "2.6676126953849895e-05"
      ]
     },
     "metadata": {},
     "output_type": "display_data"
    },
    {
     "data": {
      "image/png": "[encoded data removed]",
      "text/latex": [
       "$\\displaystyle 2 \\sum_{j=0}^{1} {a}_{\\left( 0, \\  j\\right)} {y}_{j}$"
      ],
      "text/plain": [
       "    1                 \n",
       "   ___                \n",
       "   ╲                  \n",
       "    ╲                 \n",
       "2⋅  ╱   a[(0, j)]⋅y[j]\n",
       "   ╱                  \n",
       "   ‾‾‾                \n",
       "  j = 0               "
      ]
     },
     "metadata": {},
     "output_type": "display_data"
    },
    {
     "data": {
      "text/latex": [
       "$\\displaystyle 2 \\sum_{j=0}^{1} {y}_{j} \\left[\\begin{matrix}\\left(1 - {k}_{0,0}\\right) \\sqrt{a_{1}^{2}} & \\sqrt{a_{1} a_{2}} \\left(1 - {k}_{0,1}\\right)\\end{matrix}\\right]_{0, j}$"
      ],
      "text/plain": [
       "    1                                                                 \n",
       "   ____                                                               \n",
       "   ╲                                                                  \n",
       "    ╲                                                                 \n",
       "     ╲       ⎛⎡                 _____                         ⎤⎞      \n",
       "2⋅   ╱  y[j]⋅⎜⎢                ╱   2     _______              ⎥⎟[0, j]\n",
       "    ╱        ⎝⎣(1 - k[0, 0])⋅╲╱  a₁    ╲╱ a₁⋅a₂ ⋅(1 - k[0, 1])⎦⎠      \n",
       "   ╱                                                                  \n",
       "   ‾‾‾‾                                                               \n",
       "  j = 0                                                               "
      ]
     },
     "metadata": {},
     "output_type": "display_data"
    },
    {
     "data": {
      "image/png": "[encoded data removed]",
      "text/latex": [
       "$\\displaystyle 2 \\sqrt{a_{1} a_{2}} \\left(1 - {k}_{0,1}\\right) {y}_{1} + 2 \\left(1 - {k}_{0,0}\\right) \\sqrt{a_{1}^{2}} {y}_{0}$"
      ],
      "text/plain": [
       "                                                    _____     \n",
       "    _______                                        ╱   2      \n",
       "2⋅╲╱ a₁⋅a₂ ⋅(1 - k[0, 1])⋅y[1] + 2⋅(1 - k[0, 0])⋅╲╱  a₁  ⋅y[0]"
      ]
     },
     "metadata": {},
     "output_type": "display_data"
    },
    {
     "data": {
      "image/png": "[encoded data removed]",
      "text/latex": [
       "$\\displaystyle 4.48075824298621$"
      ],
      "text/plain": [
       "4.480758242986206"
      ]
     },
     "metadata": {},
     "output_type": "display_data"
    },
    {
     "data": {
      "image/png": "[encoded data removed]",
      "text/latex": [
       "$\\displaystyle - b_{mix} + 2 \\sum_{j=0}^{1} {b}_{\\left( 0, \\  j\\right)} {y}_{j}$"
      ],
      "text/plain": [
       "            1                 \n",
       "           ___                \n",
       "           ╲                  \n",
       "            ╲                 \n",
       "-bₘᵢₓ + 2⋅  ╱   b[(0, j)]⋅y[j]\n",
       "           ╱                  \n",
       "           ‾‾‾                \n",
       "          j = 0               "
      ]
     },
     "metadata": {},
     "output_type": "display_data"
    },
    {
     "data": {
      "text/latex": [
       "$\\displaystyle - b_{mix} + 2 \\sum_{j=0}^{1} {y}_{j} \\left[\\begin{matrix}2 b_{1} \\left(0.5 - 0.5 {l}_{0,0}\\right) & \\left(0.5 - 0.5 {l}_{0,1}\\right) \\left(b_{1} + b_{2}\\right)\\end{matrix}\\right]_{0, j}$"
      ],
      "text/plain": [
       "            1                                                                 \n",
       "           ___                                                                \n",
       "           ╲                                                                  \n",
       "            ╲                                                                 \n",
       "-bₘᵢₓ + 2⋅  ╱   y[j]⋅([2⋅b₁⋅(0.5 - 0.5⋅l[0, 0])  (0.5 - 0.5⋅l[0, 1])⋅(b₁ + b₂)\n",
       "           ╱                                                                  \n",
       "           ‾‾‾                                                                \n",
       "          j = 0                                                               \n",
       "\n",
       "        \n",
       "        \n",
       "        \n",
       "        \n",
       "])[0, j]\n",
       "        \n",
       "        \n",
       "        "
      ]
     },
     "metadata": {},
     "output_type": "display_data"
    },
    {
     "data": {
      "image/png": "[encoded data removed]",
      "text/latex": [
       "$\\displaystyle 4 b_{1} \\left(0.5 - 0.5 {l}_{0,0}\\right) {y}_{0} - b_{mix} + 2 \\left(0.5 - 0.5 {l}_{0,1}\\right) \\left(b_{1} + b_{2}\\right) {y}_{1}$"
      ],
      "text/plain": [
       "4⋅b₁⋅(0.5 - 0.5⋅l[0, 0])⋅y[0] - bₘᵢₓ + 2⋅(0.5 - 0.5⋅l[0, 1])⋅(b₁ + b₂)⋅y[1]"
      ]
     },
     "metadata": {},
     "output_type": "display_data"
    },
    {
     "data": {
      "image/png": "[encoded data removed]",
      "text/latex": [
       "$\\displaystyle 0.000169626128479492$"
      ],
      "text/plain": [
       "0.00016962612847949186"
      ]
     },
     "metadata": {},
     "output_type": "display_data"
    },
    {
     "name": "stdout",
     "output_type": "stream",
     "text": [
      "\n",
      "Calculation of the fugacity of the component in supercritical phase\n",
      "\n"
     ]
    },
    {
     "data": {
      "image/png": "[encoded data removed]",
      "text/latex": [
       "$\\displaystyle \\log{\\left(\\phi_{scf} \\right)} = Z - \\log{\\left(Z \\right)} + \\int\\limits_{\\infty}^{V} \\left(- \\frac{P}{R T n} + \\frac{1}{V}\\right)\\, dV - 1$"
      ],
      "text/plain": [
       "                          V                     \n",
       "                          ⌠                     \n",
       "                          ⎮ ⎛    P     1⎞       \n",
       "log(φ_scf) = Z - log(Z) + ⎮ ⎜- ───── + ─⎟ dV - 1\n",
       "                          ⎮ ⎝  R⋅T⋅n   V⎠       \n",
       "                          ⌡                     \n",
       "                          ∞                     "
      ]
     },
     "metadata": {},
     "output_type": "display_data"
    },
    {
     "data": {
      "image/png": "[encoded data removed]",
      "text/latex": [
       "$\\displaystyle \\log{\\left(\\phi_{scf} \\right)} = Z - \\log{\\left(Z \\right)} + \\int\\limits_{\\infty}^{V} \\left(\\frac{1}{V} - \\frac{\\frac{R T n}{V - b n} - \\frac{a n^{2}}{V \\left(V + b n\\right) + b n \\left(V - b n\\right)}}{R T n}\\right)\\, dV - 1$"
      ],
      "text/plain": [
       "                          V                                                   \n",
       "                          ⌠                                                   \n",
       "                          ⎮ ⎛                             2           ⎞       \n",
       "                          ⎮ ⎜     R⋅T⋅n                a⋅n            ⎟       \n",
       "                          ⎮ ⎜    ─────── - ───────────────────────────⎟       \n",
       "                          ⎮ ⎜1   V - b⋅n   V⋅(V + b⋅n) + b⋅n⋅(V - b⋅n)⎟       \n",
       "log(φ_scf) = Z - log(Z) + ⎮ ⎜─ - ─────────────────────────────────────⎟ dV - 1\n",
       "                          ⎮ ⎝V                   R⋅T⋅n                ⎠       \n",
       "                          ⌡                                                   \n",
       "                          ∞                                                   "
      ]
     },
     "metadata": {},
     "output_type": "display_data"
    },
    {
     "data": {
      "image/png": "[encoded data removed]",
      "text/latex": [
       "$\\displaystyle \\log{\\left(\\phi_{scf} \\right)} = Z - \\log{\\left(Z \\right)} + \\int\\limits_{\\infty}^{V} \\left(- \\frac{1}{V - b n} + \\frac{1}{V} + \\frac{a n}{R T \\left(V \\left(V + b n\\right) + b n \\left(V - b n\\right)\\right)}\\right)\\, dV - 1$"
      ],
      "text/plain": [
       "                          V                                                   \n",
       "                          ⌠                                                   \n",
       "                          ⎮ ⎛     1      1                  a⋅n               \n",
       "log(φ_scf) = Z - log(Z) + ⎮ ⎜- ─────── + ─ + ─────────────────────────────────\n",
       "                          ⎮ ⎝  V - b⋅n   V   R⋅T⋅(V⋅(V + b⋅n) + b⋅n⋅(V - b⋅n))\n",
       "                          ⌡                                                   \n",
       "                          ∞                                                   \n",
       "\n",
       "        \n",
       "        \n",
       "⎞       \n",
       "⎟ dV - 1\n",
       "⎠       \n",
       "        \n",
       "        "
      ]
     },
     "metadata": {},
     "output_type": "display_data"
    },
    {
     "data": {
      "image/png": "[encoded data removed]",
      "text/latex": [
       "$\\displaystyle Z + \\log{\\left(V \\right)} - \\log{\\left(Z \\right)} - \\log{\\left(V - b n \\right)} - 1 + \\frac{a \\left(- \\frac{\\sqrt{2} \\log{\\left(V + b n + \\sqrt{2} b n \\right)}}{4} + \\frac{\\sqrt{2} \\log{\\left(V - \\sqrt{2} b n + b n \\right)}}{4}\\right)}{R T b}$"
      ],
      "text/plain": [
       "                                           ⎛  √2⋅log(V + b⋅n + √2⋅b⋅n)   √2⋅lo\n",
       "                                         a⋅⎜- ──────────────────────── + ─────\n",
       "                                           ⎝             4                    \n",
       "Z + log(V) - log(Z) - log(V - b⋅n) - 1 + ─────────────────────────────────────\n",
       "                                                                   R⋅T⋅b      \n",
       "\n",
       "g(V - √2⋅b⋅n + b⋅n)⎞\n",
       "───────────────────⎟\n",
       "      4            ⎠\n",
       "────────────────────\n",
       "                    "
      ]
     },
     "metadata": {},
     "output_type": "display_data"
    },
    {
     "data": {
      "image/png": "[encoded data removed]",
      "text/latex": [
       "$\\displaystyle \\frac{R T b \\left(Z - \\log{\\left(Z \\right)} - \\log{\\left(\\frac{n \\left(- P b + R T Z\\right)}{P} \\right)} + \\log{\\left(\\frac{R T Z n}{P} \\right)} - 1\\right) - \\frac{\\sqrt{2} a \\left(- \\log{\\left(\\frac{n \\left(P b \\left(1 - \\sqrt{2}\\right) + R T Z\\right)}{P} \\right)} + \\log{\\left(\\frac{n \\left(P b \\left(1 + \\sqrt{2}\\right) + R T Z\\right)}{P} \\right)}\\right)}{4}}{R T b}$"
      ],
      "text/plain": [
       "                                                                     ⎛     ⎛n⋅\n",
       "                                                                √2⋅a⋅⎜- log⎜──\n",
       "      ⎛                ⎛n⋅(-P⋅b + R⋅T⋅Z)⎞      ⎛R⋅T⋅Z⋅n⎞    ⎞        ⎝     ⎝  \n",
       "R⋅T⋅b⋅⎜Z - log(Z) - log⎜────────────────⎟ + log⎜───────⎟ - 1⎟ - ──────────────\n",
       "      ⎝                ⎝       P        ⎠      ⎝   P   ⎠    ⎠                 \n",
       "──────────────────────────────────────────────────────────────────────────────\n",
       "                                                                R⋅T⋅b         \n",
       "\n",
       "(P⋅b⋅(1 - √2) + R⋅T⋅Z)⎞      ⎛n⋅(P⋅b⋅(1 + √2) + R⋅T⋅Z)⎞⎞\n",
       "──────────────────────⎟ + log⎜────────────────────────⎟⎟\n",
       "         P            ⎠      ⎝           P            ⎠⎠\n",
       "────────────────────────────────────────────────────────\n",
       "                    4                                   \n",
       "────────────────────────────────────────────────────────\n",
       "                                                        "
      ]
     },
     "metadata": {},
     "output_type": "display_data"
    },
    {
     "data": {
      "image/png": "[encoded data removed]",
      "text/latex": [
       "$\\displaystyle - \\frac{\\sqrt{2} A \\left(- \\frac{b_{s}}{b} + \\frac{a_{s}}{a}\\right) \\log{\\left(\\frac{B \\left(1 + \\sqrt{2}\\right) + Z_{1}}{B \\left(1 - \\sqrt{2}\\right) + Z_{1}} \\right)}}{4 B} - \\log{\\left(- B + Z_{1} \\right)} + \\frac{b_{s} \\left(Z_{1} - 1\\right)}{b}$"
      ],
      "text/plain": [
       "       ⎛  bₛ   aₛ⎞    ⎛B⋅(1 + √2) + Z₁⎞                             \n",
       "  √2⋅A⋅⎜- ── + ──⎟⋅log⎜───────────────⎟                             \n",
       "       ⎝  b    a ⎠    ⎝B⋅(1 - √2) + Z₁⎠                  bₛ⋅(Z₁ - 1)\n",
       "- ───────────────────────────────────── - log(-B + Z₁) + ───────────\n",
       "                   4⋅B                                        b     "
      ]
     },
     "metadata": {},
     "output_type": "display_data"
    },
    {
     "data": {
      "image/png": "[encoded data removed]",
      "text/latex": [
       "$\\displaystyle - \\log{\\left(- \\frac{P b}{R T} + Z_{1} \\right)} + \\frac{b_{s} \\left(Z_{1} - 1\\right)}{b} - \\frac{\\sqrt{2} a \\left(- \\frac{b_{s}}{b} + \\frac{a_{s}}{a}\\right) \\log{\\left(\\frac{\\frac{P b \\left(1 + \\sqrt{2}\\right)}{R T} + Z_{1}}{\\frac{P b \\left(1 - \\sqrt{2}\\right)}{R T} + Z_{1}} \\right)}}{4 R T b}$"
      ],
      "text/plain": [
       "                                                      ⎛P⋅b⋅(1 + √2)     ⎞\n",
       "                                                      ⎜──────────── + Z₁⎟\n",
       "                                       ⎛  bₛ   aₛ⎞    ⎜    R⋅T          ⎟\n",
       "                                  √2⋅a⋅⎜- ── + ──⎟⋅log⎜─────────────────⎟\n",
       "                                       ⎝  b    a ⎠    ⎜P⋅b⋅(1 - √2)     ⎟\n",
       "                                                      ⎜──────────── + Z₁⎟\n",
       "     ⎛  P⋅b     ⎞   bₛ⋅(Z₁ - 1)                       ⎝    R⋅T          ⎠\n",
       "- log⎜- ─── + Z₁⎟ + ─────────── - ───────────────────────────────────────\n",
       "     ⎝  R⋅T     ⎠        b                        4⋅R⋅T⋅b                "
      ]
     },
     "metadata": {},
     "output_type": "display_data"
    },
    {
     "name": "stdout",
     "output_type": "stream",
     "text": [
      "\n",
      "Calculation of the solubility of the component in supercritical phase \n",
      " \n"
     ]
    },
    {
     "data": {
      "image/png": "[encoded data removed]",
      "text/latex": [
       "$\\displaystyle y_{solubility} = \\frac{y_{ideal} e^{\\frac{v_{sol} \\left(P - P_{sub}\\right)}{R}}}{\\phi_{scf}}$"
      ],
      "text/plain": [
       "                        vₛₒₗ⋅(P - P_sub)\n",
       "                        ────────────────\n",
       "                               R        \n",
       "               y_ideal⋅ℯ                \n",
       "y_solubility = ─────────────────────────\n",
       "                         φ_scf          "
      ]
     },
     "metadata": {},
     "output_type": "display_data"
    },
    {
     "name": "stdout",
     "output_type": "stream",
     "text": [
      "Enhancement Factor: 444489.66714631923 \n",
      "Poynting Correction: 2.4829951026480535\n",
      "Fugacity: 5.586170582072697e-06\n",
      "Z= 0.30903539126389107\n",
      "Calculated Solubility: 0.003066978703309603\n",
      "\n",
      "Calculation of the solubility of the component in supercritical phase \n",
      " \n"
     ]
    },
    {
     "data": {
      "image/png": "[encoded data removed]",
      "text/latex": [
       "$\\displaystyle y_{solubility} = \\frac{y_{ideal} e^{\\frac{v_{sol} \\left(P - P_{sub}\\right)}{R}}}{\\phi_{scf}}$"
      ],
      "text/plain": [
       "                        vₛₒₗ⋅(P - P_sub)\n",
       "                        ────────────────\n",
       "                               R        \n",
       "               y_ideal⋅ℯ                \n",
       "y_solubility = ─────────────────────────\n",
       "                         φ_scf          "
      ]
     },
     "metadata": {},
     "output_type": "display_data"
    },
    {
     "name": "stdout",
     "output_type": "stream",
     "text": [
      "Enhancement Factor: 477915.0651044853 \n",
      "Poynting Correction: 2.4829951026480535\n",
      "Fugacity: 5.195473597605053e-06\n",
      "Z= 0.3076237505872765\n",
      "Calculated Solubility: 0.003297613949220949\n",
      "\n",
      "Calculation of the solubility of the component in supercritical phase \n",
      " \n"
     ]
    },
    {
     "data": {
      "image/png": "[encoded data removed]",
      "text/latex": [
       "$\\displaystyle y_{solubility} = \\frac{y_{ideal} e^{\\frac{v_{sol} \\left(P - P_{sub}\\right)}{R}}}{\\phi_{scf}}$"
      ],
      "text/plain": [
       "                        vₛₒₗ⋅(P - P_sub)\n",
       "                        ────────────────\n",
       "                               R        \n",
       "               y_ideal⋅ℯ                \n",
       "y_solubility = ─────────────────────────\n",
       "                         φ_scf          "
      ]
     },
     "metadata": {},
     "output_type": "display_data"
    },
    {
     "name": "stdout",
     "output_type": "stream",
     "text": [
      "Enhancement Factor: 489436.8422785335 \n",
      "Poynting Correction: 2.4829951026480535\n",
      "Fugacity: 5.073167543106627e-06\n",
      "Z= 0.30716815410285975\n",
      "Calculated Solubility: 0.0033771142117218814\n",
      "\n",
      "Calculation of the solubility of the component in supercritical phase \n",
      " \n"
     ]
    },
    {
     "data": {
      "image/png": "[encoded data removed]",
      "text/latex": [
       "$\\displaystyle y_{solubility} = \\frac{y_{ideal} e^{\\frac{v_{sol} \\left(P - P_{sub}\\right)}{R}}}{\\phi_{scf}}$"
      ],
      "text/plain": [
       "                        vₛₒₗ⋅(P - P_sub)\n",
       "                        ────────────────\n",
       "                               R        \n",
       "               y_ideal⋅ℯ                \n",
       "y_solubility = ─────────────────────────\n",
       "                         φ_scf          "
      ]
     },
     "metadata": {},
     "output_type": "display_data"
    },
    {
     "name": "stdout",
     "output_type": "stream",
     "text": [
      "Enhancement Factor: 493458.07901706564 \n",
      "Poynting Correction: 2.4829951026480535\n",
      "Fugacity: 5.0318258191131615e-06\n",
      "Z= 0.3070125986877204\n",
      "Calculated Solubility: 0.003404860745217753\n",
      "\n",
      "Calculation of the solubility of the component in supercritical phase \n",
      " \n"
     ]
    },
    {
     "data": {
      "image/png": "[encoded data removed]",
      "text/latex": [
       "$\\displaystyle y_{solubility} = \\frac{y_{ideal} e^{\\frac{v_{sol} \\left(P - P_{sub}\\right)}{R}}}{\\phi_{scf}}$"
      ],
      "text/plain": [
       "                        vₛₒₗ⋅(P - P_sub)\n",
       "                        ────────────────\n",
       "                               R        \n",
       "               y_ideal⋅ℯ                \n",
       "y_solubility = ─────────────────────────\n",
       "                         φ_scf          "
      ]
     },
     "metadata": {},
     "output_type": "display_data"
    },
    {
     "name": "stdout",
     "output_type": "stream",
     "text": [
      "Enhancement Factor: 494867.56971786794 \n",
      "Poynting Correction: 2.4829951026480535\n",
      "Fugacity: 5.0174940824343155e-06\n",
      "Z= 0.3069584864083576\n",
      "Calculated Solubility: 0.0034145862310532888\n",
      "\n",
      "Calculation of the solubility of the component in supercritical phase \n",
      " \n"
     ]
    },
    {
     "data": {
      "image/png": "[encoded data removed]",
      "text/latex": [
       "$\\displaystyle y_{solubility} = \\frac{y_{ideal} e^{\\frac{v_{sol} \\left(P - P_{sub}\\right)}{R}}}{\\phi_{scf}}$"
      ],
      "text/plain": [
       "                        vₛₒₗ⋅(P - P_sub)\n",
       "                        ────────────────\n",
       "                               R        \n",
       "               y_ideal⋅ℯ                \n",
       "y_solubility = ─────────────────────────\n",
       "                         φ_scf          "
      ]
     },
     "metadata": {},
     "output_type": "display_data"
    },
    {
     "name": "stdout",
     "output_type": "stream",
     "text": [
      "Enhancement Factor: 495362.35300817667 \n",
      "Poynting Correction: 2.4829951026480535\n",
      "Fugacity: 5.012482453641503e-06\n",
      "Z= 0.3069395412115019\n",
      "Calculated Solubility: 0.003418000235756419\n"
     ]
    },
    {
     "data": {
      "image/png": "[encoded data removed]",
      "text/latex": [
       "$\\displaystyle 0.00341800023575642$"
      ],
      "text/plain": [
       "0.003418000235756419"
      ]
     },
     "execution_count": 39,
     "metadata": {},
     "output_type": "execute_result"
    }
   ],
   "source": [
    "find_solubility(v_solid_num, 13000000, P_sub_num, R_num, T_num, a_PRK_CO2, a_PRK_ibu, b_PRK_CO2, b_PRK_ibu, k_num, l_num, disp=True)"
   ]
  },
  {
   "cell_type": "markdown",
   "metadata": {
    "id": "29pjtNWo1vkp"
   },
   "source": [
    "### Average Absolute Relative Deviation, AARD(%)"
   ]
  },
  {
   "cell_type": "code",
   "execution_count": 40,
   "metadata": {
    "executionInfo": {
     "elapsed": 83,
     "status": "ok",
     "timestamp": 1649357626788,
     "user": {
      "displayName": "Mustafa Anıl Öz",
      "userId": "14802831192679516792"
     },
     "user_tz": -180
    },
    "id": "PEh_xM3-2CfP"
   },
   "outputs": [],
   "source": [
    "y_expe = np.array([0.000198, 0.000573, 0.000766, 0.001393, 0.001596, 0.002142, 0.002287, 0.003019, 0.003261])\n",
    "P_expe = np.array([9, 9.5, 10, 10.5, 11, 11.5, 12, 12.5, 13])"
   ]
  },
  {
   "cell_type": "code",
   "execution_count": 41,
   "metadata": {
    "executionInfo": {
     "elapsed": 31879,
     "status": "ok",
     "timestamp": 1649357658602,
     "user": {
      "displayName": "Mustafa Anıl Öz",
      "userId": "14802831192679516792"
     },
     "user_tz": -180
    },
    "id": "z0e9j9YJ1ysn"
   },
   "outputs": [],
   "source": [
    "y_calc_num = [find_solubility(v_solid_num, p*10**6, P_sub_num, R_num, T_num, a_PRK_CO2, a_PRK_ibu, b_PRK_CO2, b_PRK_ibu, k_num, l_num) for p in P_expe]"
   ]
  },
  {
   "cell_type": "code",
   "execution_count": 42,
   "metadata": {
    "colab": {
     "base_uri": "https://localhost:8080/",
     "height": 37
    },
    "executionInfo": {
     "elapsed": 970,
     "status": "ok",
     "timestamp": 1649357658885,
     "user": {
      "displayName": "Mustafa Anıl Öz",
      "userId": "14802831192679516792"
     },
     "user_tz": -180
    },
    "id": "CxPJhu6Z2GhB",
    "outputId": "a84d366a-4a1e-446a-9ea5-67ab5bfbd5e6"
   },
   "outputs": [
    {
     "data": {
      "image/png": "[encoded data removed]",
      "text/latex": [
       "$\\displaystyle 6.74143854938903$"
      ],
      "text/plain": [
       "6.74143854938903"
      ]
     },
     "execution_count": 42,
     "metadata": {},
     "output_type": "execute_result"
    }
   ],
   "source": [
    "AARD(y_calc_num, y_expe)"
   ]
  },
  {
   "cell_type": "markdown",
   "metadata": {
    "id": "4G66GVxhG9hn"
   },
   "source": [
    "### Ibuprofen Solubility Without Colsolvent"
   ]
  },
  {
   "cell_type": "code",
   "execution_count": null,
   "metadata": {
    "executionInfo": {
     "elapsed": 76,
     "status": "aborted",
     "timestamp": 1649355565523,
     "user": {
      "displayName": "Mustafa Anıl Öz",
      "userId": "14802831192679516792"
     },
     "user_tz": -180
    },
    "id": "XBb0fZWEIPTW"
   },
   "outputs": [],
   "source": [
    "counter = 0\n",
    "y_solubility = []\n",
    "for i in P_num:\n",
    "    y_final = find_solubility(v_solid_num, i, P_sub_num, R_num, T_num, a_PRK_CO2, a_PRK_ibu, b_PRK_CO2, b_PRK_ibu, k_num, l_num)\n",
    "    y_solubility.append(y_final)\n",
    "    counter += 1\n",
    "    print('%{0}'.format(str(100*counter/len(P_num))))"
   ]
  },
  {
   "cell_type": "code",
   "execution_count": null,
   "metadata": {
    "executionInfo": {
     "elapsed": 81,
     "status": "aborted",
     "timestamp": 1649355565528,
     "user": {
      "displayName": "Mustafa Anıl Öz",
      "userId": "14802831192679516792"
     },
     "user_tz": -180
    },
    "id": "GYY3wMhMY7IH"
   },
   "outputs": [],
   "source": [
    "write_to_excel(P_num, y_solubility,  path='ExcelFiles/y_ibu.xlsx')"
   ]
  },
  {
   "cell_type": "code",
   "execution_count": null,
   "metadata": {
    "executionInfo": {
     "elapsed": 83,
     "status": "aborted",
     "timestamp": 1649355565531,
     "user": {
      "displayName": "Mustafa Anıl Öz",
      "userId": "14802831192679516792"
     },
     "user_tz": -180
    },
    "id": "FKqm4Ho2ZVkR"
   },
   "outputs": [],
   "source": [
    "# Create figure and add axes object\n",
    "fig = plt.figure()\n",
    "\n",
    "mpl.rcParams['font.family'] = 'Helvetica'\n",
    "plt.rcParams['font.size'] = 20\n",
    "plt.rcParams['axes.linewidth'] = 2\n",
    "\n",
    "ax = fig.add_axes([0,0,1,1])\n",
    "ax.set_xlim(0.1, 20000000)\n",
    "# ax.plot(P_num, y_naph)\n",
    "\n",
    "ax.set_xlabel('$P (Pa)$')\n",
    "ax.set_ylabel('$log(y_{i})$')\n",
    "ax.set_yscale(\"log\")\n",
    "ax.plot(P_num, y_solubility, color='blue', label='$log(y_{ibuprofen})$')\n",
    "plt.legend(loc='lower right', prop={'size': 15})\n",
    "fig.show()"
   ]
  },
  {
   "cell_type": "code",
   "execution_count": null,
   "metadata": {
    "id": "QPqd0eMuQP6r"
   },
   "outputs": [],
   "source": [
    "find_solubility_cosol(0.05, v_solid_num, 20000000, P_sub_num, R_num, T_num, a_PRK_CO2, a_PRK_ibu, a_PRK_eth, b_PRK_CO2, b_PRK_ibu, b_PRK_eth, k_num, l_num, disp=True)\n"
   ]
  },
  {
   "cell_type": "markdown",
   "metadata": {
    "id": "i1kOdyseDnTo"
   },
   "source": [
    "### Ibuprofen solubility in scCO2"
   ]
  },
  {
   "cell_type": "code",
   "execution_count": 43,
   "metadata": {
    "colab": {
     "base_uri": "https://localhost:8080/"
    },
    "executionInfo": {
     "elapsed": 334427,
     "status": "ok",
     "timestamp": 1649357993007,
     "user": {
      "displayName": "Mustafa Anıl Öz",
      "userId": "14802831192679516792"
     },
     "user_tz": -180
    },
    "id": "kDI3cEToDnTp",
    "outputId": "a888a062-9497-4269-a098-ceb55ab9aeb0"
   },
   "outputs": [
    {
     "name": "stdout",
     "output_type": "stream",
     "text": [
      "%0.591715976331361\n",
      "%1.183431952662722\n",
      "%1.7751479289940828\n",
      "%2.366863905325444\n",
      "%2.9585798816568047\n",
      "%3.5502958579881656\n",
      "%4.1420118343195265\n",
      "%4.733727810650888\n",
      "%5.325443786982248\n",
      "%5.9171597633136095\n",
      "%6.508875739644971\n",
      "%7.100591715976331\n",
      "%7.6923076923076925\n",
      "%8.284023668639053\n",
      "%8.875739644970414\n",
      "%9.467455621301776\n",
      "%10.059171597633137\n",
      "%10.650887573964496\n",
      "%11.242603550295858\n",
      "%11.834319526627219\n",
      "%12.42603550295858\n",
      "%13.017751479289942\n",
      "%13.609467455621301\n",
      "%14.201183431952662\n",
      "%14.792899408284024\n",
      "%15.384615384615385\n",
      "%15.976331360946746\n",
      "%16.568047337278106\n",
      "%17.159763313609467\n",
      "%17.75147928994083\n",
      "%18.34319526627219\n",
      "%18.93491124260355\n",
      "%19.526627218934912\n",
      "%20.118343195266274\n",
      "%20.71005917159763\n",
      "%21.301775147928993\n",
      "%21.893491124260354\n",
      "%22.485207100591715\n",
      "%23.076923076923077\n",
      "%23.668639053254438\n",
      "%24.2603550295858\n",
      "%24.85207100591716\n",
      "%25.443786982248522\n",
      "%26.035502958579883\n",
      "%26.62721893491124\n",
      "%27.218934911242602\n",
      "%27.810650887573964\n",
      "%28.402366863905325\n",
      "%28.994082840236686\n",
      "%29.585798816568047\n",
      "%30.17751479289941\n",
      "%30.76923076923077\n",
      "%31.36094674556213\n",
      "%31.952662721893493\n",
      "%32.544378698224854\n",
      "%33.13609467455621\n",
      "%33.72781065088758\n",
      "%34.319526627218934\n",
      "%34.9112426035503\n",
      "%35.50295857988166\n",
      "%36.094674556213015\n",
      "%36.68639053254438\n",
      "%37.27810650887574\n",
      "%37.8698224852071\n",
      "%38.46153846153846\n",
      "%39.053254437869825\n",
      "%39.64497041420118\n",
      "%40.23668639053255\n",
      "%40.828402366863905\n",
      "%41.42011834319526\n",
      "%42.01183431952663\n",
      "%42.603550295857985\n",
      "%43.19526627218935\n",
      "%43.78698224852071\n",
      "%44.37869822485207\n",
      "%44.97041420118343\n",
      "%45.562130177514796\n",
      "%46.15384615384615\n",
      "%46.74556213017752\n",
      "%47.337278106508876\n",
      "%47.928994082840234\n",
      "%48.5207100591716\n",
      "%49.112426035502956\n",
      "%49.70414201183432\n",
      "%50.29585798816568\n",
      "%50.887573964497044\n",
      "%51.4792899408284\n",
      "%52.071005917159766\n",
      "%52.662721893491124\n",
      "%53.25443786982248\n",
      "%53.84615384615385\n",
      "%54.437869822485204\n",
      "%55.02958579881657\n",
      "%55.62130177514793\n",
      "%56.21301775147929\n",
      "%56.80473372781065\n",
      "%57.396449704142015\n",
      "%57.98816568047337\n",
      "%58.57988165680474\n",
      "%59.171597633136095\n",
      "%59.76331360946745\n",
      "%60.35502958579882\n",
      "%60.946745562130175\n",
      "%61.53846153846154\n",
      "%62.1301775147929\n",
      "%62.72189349112426\n",
      "%63.31360946745562\n",
      "%63.905325443786985\n",
      "%64.49704142011835\n",
      "%65.08875739644971\n",
      "%65.68047337278107\n",
      "%66.27218934911242\n",
      "%66.86390532544378\n",
      "%67.45562130177515\n",
      "%68.04733727810651\n",
      "%68.63905325443787\n",
      "%69.23076923076923\n",
      "%69.8224852071006\n",
      "%70.41420118343196\n",
      "%71.00591715976331\n",
      "%71.59763313609467\n",
      "%72.18934911242603\n",
      "%72.7810650887574\n",
      "%73.37278106508876\n",
      "%73.96449704142012\n",
      "%74.55621301775147\n",
      "%75.14792899408285\n",
      "%75.7396449704142\n",
      "%76.33136094674556\n",
      "%76.92307692307692\n",
      "%77.51479289940828\n",
      "%78.10650887573965\n",
      "%78.69822485207101\n",
      "%79.28994082840237\n",
      "%79.88165680473372\n",
      "%80.4733727810651\n",
      "%81.06508875739645\n",
      "%81.65680473372781\n",
      "%82.24852071005917\n",
      "%82.84023668639053\n",
      "%83.4319526627219\n",
      "%84.02366863905326\n",
      "%84.61538461538461\n",
      "%85.20710059171597\n",
      "%85.79881656804734\n",
      "%86.3905325443787\n",
      "%86.98224852071006\n",
      "%87.57396449704142\n",
      "%88.16568047337279\n",
      "%88.75739644970415\n",
      "%89.3491124260355\n",
      "%89.94082840236686\n",
      "%90.53254437869822\n",
      "%91.12426035502959\n",
      "%91.71597633136095\n",
      "%92.3076923076923\n",
      "%92.89940828402366\n",
      "%93.49112426035504\n",
      "%94.0828402366864\n",
      "%94.67455621301775\n",
      "%95.26627218934911\n",
      "%95.85798816568047\n",
      "%96.44970414201184\n",
      "%97.0414201183432\n",
      "%97.63313609467455\n",
      "%98.22485207100591\n",
      "%98.81656804733728\n",
      "%99.40828402366864\n",
      "%100.0\n"
     ]
    }
   ],
   "source": [
    "counter = 0\n",
    "y_solubility = []\n",
    "for i in P_num:\n",
    "    y_final = find_solubility(v_solid_num, i, P_sub_num, R_num, T_num, a_PRK_CO2, a_PRK_ibu, b_PRK_CO2, b_PRK_ibu, k_num, l_num)\n",
    "    y_solubility.append(y_final)\n",
    "    counter += 1\n",
    "    print('%{0}'.format(str(100*counter/len(P_num))))"
   ]
  },
  {
   "cell_type": "code",
   "execution_count": 44,
   "metadata": {
    "executionInfo": {
     "elapsed": 1276,
     "status": "ok",
     "timestamp": 1649357993084,
     "user": {
      "displayName": "Mustafa Anıl Öz",
      "userId": "14802831192679516792"
     },
     "user_tz": -180
    },
    "id": "5ESjQUPC93bg"
   },
   "outputs": [],
   "source": [
    "write_to_excel(P_num, y_solubility,  path='ExcelFiles/y_ibu.xlsx')"
   ]
  },
  {
   "cell_type": "code",
   "execution_count": 47,
   "metadata": {
    "colab": {
     "base_uri": "https://localhost:8080/",
     "height": 370
    },
    "executionInfo": {
     "elapsed": 1744,
     "status": "ok",
     "timestamp": 1649358097733,
     "user": {
      "displayName": "Mustafa Anıl Öz",
      "userId": "14802831192679516792"
     },
     "user_tz": -180
    },
    "id": "Mlv2wh0ZDsjZ",
    "outputId": "95342687-963c-4b62-b2a1-a1e7ad0bcd11"
   },
   "outputs": [
    {
     "data": {
      "image/png": "[encoded data removed]",
      "text/plain": [
       "<Figure size 432x288 with 1 Axes>"
      ]
     },
     "metadata": {
      "needs_background": "light"
     },
     "output_type": "display_data"
    }
   ],
   "source": [
    "# Create figure and add axes object\n",
    "fig = plt.figure()\n",
    "\n",
    "mpl.rcParams['font.family'] = 'Helvetica'\n",
    "plt.rcParams['font.size'] = 20\n",
    "plt.rcParams['axes.linewidth'] = 2\n",
    "\n",
    "ax = fig.add_axes([0,0,1,1])\n",
    "ax.set_xlim(0.1, 17000000)\n",
    "\n",
    "ax.set_xlabel('$P (Pa)$')\n",
    "ax.set_ylabel('$log(y_{i})$')\n",
    "ax.set_yscale(\"log\")\n",
    "ax.plot(P_num[0:len(y_solubility)], y_solubility, color='blue', label='$log(y_{ibuprofen})$')\n",
    "plt.legend(loc='lower right', prop={'size': 15})\n",
    "fig.show()"
   ]
  }
 ],
 "metadata": {
  "colab": {
   "collapsed_sections": [],
   "name": "Ibuprofen_Solubility_in_scCO2.ipynb",
   "provenance": []
  },
  "interpreter": {
   "hash": "d25acb798dd971b8406457b7ad6fc86c68804576b08111a6ac00cea3a6710ac0"
  },
  "kernelspec": {
   "display_name": "Python 3 (ipykernel)",
   "language": "python",
   "name": "python3"
  },
  "language_info": {
   "codemirror_mode": {
    "name": "ipython",
    "version": 3
   },
   "file_extension": ".py",
   "mimetype": "text/x-python",
   "name": "python",
   "nbconvert_exporter": "python",
   "pygments_lexer": "ipython3",
   "version": "3.8.13"
  }
 },
 "nbformat": 4,
 "nbformat_minor": 1
}
