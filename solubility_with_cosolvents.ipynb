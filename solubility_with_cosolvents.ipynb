{
  "cells": [
    {
      "cell_type": "markdown",
      "metadata": {
        "id": "view-in-github",
        "colab_type": "text"
      },
      "source": [
        "<a href=\"https://colab.research.google.com/github/AnilOz/solubility_in_sc_CO2/blob/master/solubility_with_cosolvents.ipynb\" target=\"_parent\"><img src=\"https://colab.research.google.com/assets/colab-badge.svg\" alt=\"Open In Colab\"/></a>"
      ]
    },
    {
      "cell_type": "markdown",
      "source": [
        "### Colab Adjustments"
      ],
      "metadata": {
        "id": "DpsUE9oBGMWx"
      }
    },
    {
      "cell_type": "code",
      "source": [
        "from google.colab import drive\n",
        "drive.mount('/content/gdrive')"
      ],
      "metadata": {
        "colab": {
          "base_uri": "https://localhost:8080/"
        },
        "id": "m2uJVGyuDtiN",
        "outputId": "431cf055-a40e-4e64-bd71-676e7db8967f"
      },
      "execution_count": 14,
      "outputs": [
        {
          "output_type": "stream",
          "name": "stdout",
          "text": [
            "Drive already mounted at /content/gdrive; to attempt to forcibly remount, call drive.mount(\"/content/gdrive\", force_remount=True).\n"
          ]
        }
      ]
    },
    {
      "cell_type": "code",
      "source": [
        "%cd /content/gdrive/MyDrive/Python_Projects/solubility_in_sc_CO2"
      ],
      "metadata": {
        "colab": {
          "base_uri": "https://localhost:8080/"
        },
        "id": "-jGWHeFmD461",
        "outputId": "9db69c35-cb45-46a8-ac95-432460e79eb2"
      },
      "execution_count": 15,
      "outputs": [
        {
          "output_type": "stream",
          "name": "stdout",
          "text": [
            "/content/gdrive/MyDrive/Python_Projects/solubility_in_sc_CO2\n"
          ]
        }
      ]
    },
    {
      "cell_type": "markdown",
      "metadata": {
        "id": "USzr3ZJoDnSX"
      },
      "source": [
        "### Importing Packages"
      ]
    },
    {
      "cell_type": "code",
      "execution_count": 35,
      "metadata": {
        "id": "ctrbM7tZDnSk"
      },
      "outputs": [],
      "source": [
        "from fugacity_coeff import fugacity_scf\n",
        "from mixing_parameters import a_mix, a_PRK, alpha, b_mix, b_PRK, a_star, b_star, a_m_cosolvent, a_s_cosolvent, b_m_cosolvent, b_s_cosolvent\n",
        "from Z_prk import Z_PRK\n",
        "from P_sat import P_sat\n",
        "from find_solubility import find_solubility_cosol, find_solubility\n",
        "\n",
        "#from ANN.evaluate_model import evaluate_model, plot_predictions, model_predictions"
      ]
    },
    {
      "cell_type": "code",
      "execution_count": 17,
      "metadata": {
        "id": "jq_Y2RASDnSt"
      },
      "outputs": [],
      "source": [
        "import numpy as np \n",
        "import sympy as sp\n",
        "from sympy import pi\n",
        "from sympy.abc import i\n",
        "import matplotlib.pyplot as plt\n",
        "import pandas as pd\n",
        "%matplotlib inline\n",
        "\n",
        "from IPython.display import display\n",
        "from sympy.interactive import init_printing\n",
        "init_printing(use_latex=True)\n",
        "from sympy import pprint"
      ]
    },
    {
      "cell_type": "markdown",
      "metadata": {
        "id": "CF_OXh8oDnSw"
      },
      "source": [
        "### Inputs"
      ]
    },
    {
      "cell_type": "markdown",
      "metadata": {
        "id": "xciwPMBrDnSz"
      },
      "source": [
        "#### Temperature and Pressure Inputs"
      ]
    },
    {
      "cell_type": "code",
      "execution_count": 21,
      "metadata": {
        "id": "98okgNEVDnS0"
      },
      "outputs": [],
      "source": [
        "P_num = np.arange(start=100000, stop=26000000, step=100000)\n",
        "T_num = 313.15 # in Kelvins\n",
        "R_num = 8.314 #Pa . m3 . mol-1 . K-1"
      ]
    },
    {
      "cell_type": "code",
      "execution_count": 22,
      "metadata": {
        "id": "32Gp106rDnS4"
      },
      "outputs": [],
      "source": [
        "k_num = np.array([[0,0.1,0],[0.1,0,0],[0,0,0]])\n",
        "l_num = np.array([[0,0,0],[0,0,0],[0,0,0]])"
      ]
    },
    {
      "cell_type": "markdown",
      "metadata": {
        "id": "UducFq5hDnS7"
      },
      "source": [
        "#### Naphtalene Properties"
      ]
    },
    {
      "cell_type": "code",
      "execution_count": 23,
      "metadata": {
        "id": "uKUbeIv4DnS9"
      },
      "outputs": [],
      "source": [
        "from openpyxl import load_workbook, Workbook\n",
        "\n",
        "wb1 = load_workbook('ExcelFiles/Joback_Method.xlsx', data_only=True)\n",
        "ws1 = wb1.active\n",
        "# T_c_naph = ws1['G36'].value # in Kelvin\n",
        "# P_c_naph = ws1['G37'].value / 10 # in MPa\n",
        "# V_c_naph = ws1['G38'].value # in cm³/mol\n",
        "# w_naph = ws1['G40'].value\n"
      ]
    },
    {
      "cell_type": "code",
      "execution_count": 24,
      "metadata": {
        "id": "f_8a_GhsDnTB"
      },
      "outputs": [],
      "source": [
        "T_c_naph = 748.4\n",
        "P_c_naph = 4050000\n",
        "w_naph = 0.3020"
      ]
    },
    {
      "cell_type": "code",
      "execution_count": 25,
      "metadata": {
        "id": "ZxgkAaeoDnTP"
      },
      "outputs": [],
      "source": [
        "v_solid_num = 128.6/10**(6) # cm^3/mol\n",
        "A_num = 28.1249 #|\n",
        "B_num = 6738.77 #| Antoine Constants\n",
        "C_num = -35.818 #|"
      ]
    },
    {
      "cell_type": "code",
      "execution_count": 26,
      "metadata": {
        "colab": {
          "base_uri": "https://localhost:8080/",
          "height": 37
        },
        "id": "-Dy6ib_JDnTQ",
        "outputId": "a1f673fe-a039-4f2a-c3ea-d9dc156c64fb"
      },
      "outputs": [
        {
          "output_type": "execute_result",
          "data": {
            "text/plain": [
              "45.89396655113254"
            ],
            "image/png": "[encoded data removed]",
            "text/latex": "$\\displaystyle 45.8939665511325$"
          },
          "metadata": {},
          "execution_count": 26
        }
      ],
      "source": [
        "P_sat(A_num, B_num, C_num, T_num)"
      ]
    },
    {
      "cell_type": "code",
      "execution_count": 27,
      "metadata": {
        "id": "5tmqkVo1DnTZ"
      },
      "outputs": [],
      "source": [
        "P_sub_num = P_sat(A_num, B_num, C_num, T_num)"
      ]
    },
    {
      "cell_type": "markdown",
      "metadata": {
        "id": "I8pIgJepDnTa"
      },
      "source": [
        "#### CO2 Properties"
      ]
    },
    {
      "cell_type": "code",
      "execution_count": 28,
      "metadata": {
        "id": "5Wrg22d6DnTb"
      },
      "outputs": [],
      "source": [
        "T_c_co2 = 304.25\n",
        "P_c_co2 = 7377300 # Pa\n",
        "w_co2 = 0.225"
      ]
    },
    {
      "cell_type": "markdown",
      "metadata": {
        "id": "QSZ4nJjLDnTc"
      },
      "source": [
        "### Ethanol Properties"
      ]
    },
    {
      "cell_type": "code",
      "execution_count": 29,
      "metadata": {
        "id": "haPRAFWDDnTd"
      },
      "outputs": [],
      "source": [
        "T_c_eth = 516.2\n",
        "P_c_eth= 6140000 # Pa\n",
        "w_eth= 0.635"
      ]
    },
    {
      "cell_type": "markdown",
      "metadata": {
        "id": "n2-gRE13DnTf"
      },
      "source": [
        "### Toluene Properties"
      ]
    },
    {
      "cell_type": "code",
      "execution_count": 30,
      "metadata": {
        "id": "OVzp1gVCDnTf"
      },
      "outputs": [],
      "source": [
        "T_c_tol = 591.7\n",
        "P_c_tol= 4112780 # Pa\n",
        "w_tol= 0.2570"
      ]
    },
    {
      "cell_type": "markdown",
      "metadata": {
        "id": "sBdJNGJ8DnTg"
      },
      "source": [
        "### n-Heptane Properties"
      ]
    },
    {
      "cell_type": "code",
      "execution_count": 31,
      "metadata": {
        "id": "n_6s9f8_DnTh"
      },
      "outputs": [],
      "source": [
        "T_c_hep = 540.2\n",
        "P_c_hep= 2740000 # Pa\n",
        "w_hep= 0.35"
      ]
    },
    {
      "cell_type": "markdown",
      "metadata": {
        "id": "qivcx9oXDnTi"
      },
      "source": [
        "### Calculations"
      ]
    },
    {
      "cell_type": "markdown",
      "metadata": {
        "id": "nyzUeRN4DnTi"
      },
      "source": [
        "#### Mixing Parameters"
      ]
    },
    {
      "cell_type": "code",
      "execution_count": 32,
      "metadata": {
        "id": "Z3uzSyb_DnTk"
      },
      "outputs": [],
      "source": [
        "alpha_co2 = alpha(w_co2, T_num, T_c_co2)\n",
        "alpha_naph = alpha(w_naph, T_num, T_c_naph)\n",
        "alpha_eth = alpha(w_eth, T_num, T_c_eth)\n",
        "alpha_tol = alpha(w_tol, T_num, T_c_tol)\n",
        "alpha_hep = alpha(w_hep, T_num, T_c_hep)\n",
        "\n",
        "a_PRK_CO2 = a_PRK(P_c_co2, T_c_co2, R_num) * alpha_co2\n",
        "a_PRK_naph = a_PRK(P_c_naph, T_c_naph, R_num) * alpha_naph\n",
        "a_PRK_eth = a_PRK(P_c_eth, T_c_eth, R_num) * alpha_eth\n",
        "a_PRK_tol = a_PRK(P_c_tol, T_c_tol, R_num) * alpha_tol\n",
        "a_PRK_hep = a_PRK(P_c_hep, T_c_hep, R_num) * alpha_hep\n",
        "\n",
        "\n",
        "b_PRK_CO2 = b_PRK(P_c_co2, T_c_co2, R_num)\n",
        "b_PRK_naph = b_PRK(P_c_naph, T_c_naph, R_num)\n",
        "b_PRK_eth = b_PRK(P_c_eth, T_c_eth, R_num)\n",
        "b_PRK_tol = b_PRK(P_c_tol, T_c_tol, R_num)\n",
        "b_PRK_hep = b_PRK(P_c_hep, T_c_hep, R_num)\n",
        "\n",
        "# print(alpha_co2, alpha_naph, a_PRK_CO2, a_PRK_naph, b_PRK_CO2, b_PRK_naph)"
      ]
    },
    {
      "cell_type": "code",
      "execution_count": 33,
      "metadata": {
        "colab": {
          "base_uri": "https://localhost:8080/",
          "height": 37
        },
        "id": "74pzjq4iDnTn",
        "outputId": "2627a59c-5e04-46c2-9266-dda1b85c5da2"
      },
      "outputs": [
        {
          "output_type": "execute_result",
          "data": {
            "text/plain": [
              "7.77863839849704e-06"
            ],
            "image/png": "[encoded data removed]",
            "text/latex": "$\\displaystyle 7.77863839849704 \\cdot 10^{-6}$"
          },
          "metadata": {},
          "execution_count": 33
        }
      ],
      "source": [
        "find_solubility_cosol(0.05, v_solid_num, 5900000, P_sub_num, R_num, T_num, a_PRK_CO2, a_PRK_naph, a_PRK_hep, b_PRK_CO2, b_PRK_naph, b_PRK_hep, k_num, l_num, disp = True)"
      ]
    },
    {
      "cell_type": "markdown",
      "source": [
        "### Naphtalene Solubility Without Colsolvent"
      ],
      "metadata": {
        "id": "4G66GVxhG9hn"
      }
    },
    {
      "cell_type": "code",
      "source": [
        "counter = 0\n",
        "y_solubility = []\n",
        "for i in P_num:\n",
        "    y_final = find_solubility(v_solid_num, i, P_sub_num, R_num, T_num, a_PRK_CO2, a_PRK_naph, b_PRK_CO2, b_PRK_naph, k_num, l_num)\n",
        "    y_solubility.append(y_final)\n",
        "    counter += 1\n",
        "    print(counter)"
      ],
      "metadata": {
        "colab": {
          "base_uri": "https://localhost:8080/",
          "height": 252
        },
        "id": "XBb0fZWEIPTW",
        "outputId": "dd7c8986-38ab-45b0-e874-8dcc0f4affea"
      },
      "execution_count": 34,
      "outputs": [
        {
          "output_type": "error",
          "ename": "NameError",
          "evalue": "ignored",
          "traceback": [
            "\u001b[0;31m---------------------------------------------------------------------------\u001b[0m",
            "\u001b[0;31mNameError\u001b[0m                                 Traceback (most recent call last)",
            "\u001b[0;32m<ipython-input-34-7fe59e3c679c>\u001b[0m in \u001b[0;36m<module>\u001b[0;34m()\u001b[0m\n\u001b[1;32m      2\u001b[0m \u001b[0my_solubility\u001b[0m \u001b[0;34m=\u001b[0m \u001b[0;34m[\u001b[0m\u001b[0;34m]\u001b[0m\u001b[0;34m\u001b[0m\u001b[0;34m\u001b[0m\u001b[0m\n\u001b[1;32m      3\u001b[0m \u001b[0;32mfor\u001b[0m \u001b[0mi\u001b[0m \u001b[0;32min\u001b[0m \u001b[0mP_num\u001b[0m\u001b[0;34m:\u001b[0m\u001b[0;34m\u001b[0m\u001b[0;34m\u001b[0m\u001b[0m\n\u001b[0;32m----> 4\u001b[0;31m     \u001b[0my_final\u001b[0m \u001b[0;34m=\u001b[0m \u001b[0mfind_solubility\u001b[0m\u001b[0;34m(\u001b[0m\u001b[0mv_solid_num\u001b[0m\u001b[0;34m,\u001b[0m \u001b[0mi\u001b[0m\u001b[0;34m,\u001b[0m \u001b[0mP_sub_num\u001b[0m\u001b[0;34m,\u001b[0m \u001b[0mR_num\u001b[0m\u001b[0;34m,\u001b[0m \u001b[0mT_num\u001b[0m\u001b[0;34m,\u001b[0m \u001b[0ma_PRK_CO2\u001b[0m\u001b[0;34m,\u001b[0m \u001b[0ma_PRK_naph\u001b[0m\u001b[0;34m,\u001b[0m \u001b[0mb_PRK_CO2\u001b[0m\u001b[0;34m,\u001b[0m \u001b[0mb_PRK_naph\u001b[0m\u001b[0;34m,\u001b[0m \u001b[0mk_num\u001b[0m\u001b[0;34m,\u001b[0m \u001b[0ml_num\u001b[0m\u001b[0;34m)\u001b[0m\u001b[0;34m\u001b[0m\u001b[0;34m\u001b[0m\u001b[0m\n\u001b[0m\u001b[1;32m      5\u001b[0m     \u001b[0my_solubility\u001b[0m\u001b[0;34m.\u001b[0m\u001b[0mappend\u001b[0m\u001b[0;34m(\u001b[0m\u001b[0my_final\u001b[0m\u001b[0;34m)\u001b[0m\u001b[0;34m\u001b[0m\u001b[0;34m\u001b[0m\u001b[0m\n\u001b[1;32m      6\u001b[0m     \u001b[0mcounter\u001b[0m \u001b[0;34m+=\u001b[0m \u001b[0;36m1\u001b[0m\u001b[0;34m\u001b[0m\u001b[0;34m\u001b[0m\u001b[0m\n",
            "\u001b[0;31mNameError\u001b[0m: name 'find_solubility' is not defined"
          ]
        }
      ]
    },
    {
      "cell_type": "markdown",
      "metadata": {
        "id": "i1kOdyseDnTo"
      },
      "source": [
        "### Naphtalene solubility in scCO2 with a cosolvent of 5% ethanol"
      ]
    },
    {
      "cell_type": "code",
      "execution_count": null,
      "metadata": {
        "id": "kDI3cEToDnTp",
        "outputId": "a41e2b77-9941-4465-9a7d-b9d5d325ce19"
      },
      "outputs": [
        {
          "name": "stdout",
          "output_type": "stream",
          "text": [
            "1\n",
            "2\n",
            "3\n",
            "4\n",
            "5\n",
            "6\n",
            "7\n",
            "8\n",
            "9\n",
            "10\n",
            "11\n",
            "12\n",
            "13\n",
            "14\n",
            "15\n",
            "16\n",
            "17\n",
            "18\n",
            "19\n",
            "20\n",
            "21\n",
            "22\n",
            "23\n",
            "24\n",
            "25\n",
            "26\n",
            "27\n",
            "28\n",
            "29\n",
            "30\n",
            "31\n",
            "32\n",
            "33\n",
            "34\n",
            "35\n",
            "36\n",
            "37\n",
            "38\n",
            "39\n",
            "40\n",
            "41\n",
            "42\n",
            "43\n",
            "44\n",
            "45\n",
            "46\n",
            "47\n",
            "48\n",
            "49\n",
            "50\n",
            "51\n",
            "52\n"
          ]
        }
      ],
      "source": [
        "counter = 0\n",
        "y_solubility_eth = []\n",
        "for i in P_num:\n",
        "    y_final = find_solubility_cosol(0.05, v_solid_num, i, P_sub_num, R_num, T_num, a_PRK_CO2, a_PRK_naph, a_PRK_eth, b_PRK_CO2, b_PRK_naph, b_PRK_eth, k_num, l_num)\n",
        "    y_solubility_eth.append(y_final)\n",
        "    counter += 1\n",
        "    print(counter)"
      ]
    },
    {
      "cell_type": "code",
      "execution_count": null,
      "metadata": {
        "id": "xosCb2hjDnTq",
        "outputId": "13008181-4e92-40a4-f55a-43dd0a58b5f6"
      },
      "outputs": [
        {
          "data": {
            "text/plain": [
              "[<matplotlib.lines.Line2D at 0x274784c6820>]"
            ]
          },
          "execution_count": 18,
          "metadata": {},
          "output_type": "execute_result"
        },
        {
          "data": {
            "image/png": "[encoded data removed]",
            "text/plain": [
              "<Figure size 432x288 with 1 Axes>"
            ]
          },
          "metadata": {
            "needs_background": "light"
          },
          "output_type": "display_data"
        }
      ],
      "source": [
        "plt.yscale(\"log\")\n",
        "plt.plot(P_num, y_solubility_eth)"
      ]
    },
    {
      "cell_type": "code",
      "execution_count": null,
      "metadata": {
        "id": "uxoFwb_XDnTr"
      },
      "outputs": [],
      "source": [
        "df = pd.DataFrame(y_solubility_eth)\n",
        "df.to_excel('y_naph_PRK_coethanol.xlsx', index=False)"
      ]
    },
    {
      "cell_type": "markdown",
      "metadata": {
        "id": "h_B_B1gBDnTr"
      },
      "source": [
        "### Naphtalene solubility in scCO2 with a cosolvent of 5% n_heptane "
      ]
    },
    {
      "cell_type": "code",
      "execution_count": null,
      "metadata": {
        "id": "OyCYousJDnTs",
        "outputId": "2ee03aa4-2583-4f63-a7e6-eeac639f77ec"
      },
      "outputs": [
        {
          "name": "stdout",
          "output_type": "stream",
          "text": [
            "1\n",
            "2\n",
            "3\n",
            "4\n",
            "5\n",
            "6\n",
            "7\n",
            "8\n",
            "9\n",
            "10\n",
            "11\n",
            "12\n",
            "13\n",
            "14\n",
            "15\n",
            "16\n",
            "17\n",
            "18\n",
            "19\n",
            "20\n",
            "21\n",
            "22\n",
            "23\n",
            "24\n",
            "25\n",
            "26\n",
            "27\n",
            "28\n",
            "29\n",
            "30\n",
            "31\n",
            "32\n",
            "33\n",
            "34\n",
            "35\n",
            "36\n",
            "37\n",
            "38\n",
            "39\n",
            "40\n",
            "41\n",
            "42\n",
            "43\n",
            "44\n",
            "45\n",
            "46\n",
            "47\n",
            "48\n",
            "49\n",
            "50\n",
            "51\n",
            "52\n"
          ]
        }
      ],
      "source": [
        "counter = 0\n",
        "y_solubility_hep = []\n",
        "for i in P_num:\n",
        "    y_final = find_solubility_cosol(0.05, v_solid_num, i, P_sub_num, R_num, T_num, a_PRK_CO2, a_PRK_naph, a_PRK_hep, b_PRK_CO2, b_PRK_naph, b_PRK_hep, k_num, l_num)\n",
        "    y_solubility_hep.append(y_final)\n",
        "    counter += 1\n",
        "    print(counter)"
      ]
    },
    {
      "cell_type": "code",
      "execution_count": null,
      "metadata": {
        "scrolled": true,
        "id": "KT3mfvLfDnTs",
        "outputId": "dbd251fa-0139-41db-d542-f9bf5aaa320c"
      },
      "outputs": [
        {
          "data": {
            "text/plain": [
              "[<matplotlib.lines.Line2D at 0x27476e860a0>]"
            ]
          },
          "execution_count": 21,
          "metadata": {},
          "output_type": "execute_result"
        },
        {
          "data": {
            "image/png": "[encoded data removed]",
            "text/plain": [
              "<Figure size 432x288 with 1 Axes>"
            ]
          },
          "metadata": {
            "needs_background": "light"
          },
          "output_type": "display_data"
        }
      ],
      "source": [
        "plt.yscale(\"log\")\n",
        "plt.plot(P_num, y_solubility_hep)"
      ]
    },
    {
      "cell_type": "code",
      "execution_count": null,
      "metadata": {
        "id": "OKu57EyVDnTt"
      },
      "outputs": [],
      "source": [
        "df = pd.DataFrame(y_solubility_hep)\n",
        "df.to_excel('y_naph_PRK_co_nheptane.xlsx', index=False)"
      ]
    },
    {
      "cell_type": "markdown",
      "metadata": {
        "id": "AJ9g-tWCDnTu"
      },
      "source": [
        "### Compare solubilities obtained by ANN model and PRK EOS"
      ]
    },
    {
      "cell_type": "code",
      "execution_count": null,
      "metadata": {
        "id": "9xyM8NQ_DnTv"
      },
      "outputs": [],
      "source": [
        "df1 = pd.read_excel('y_naph_PRK_coethanol.xlsx')"
      ]
    },
    {
      "cell_type": "code",
      "execution_count": null,
      "metadata": {
        "id": "SReeZ4ESDnTw"
      },
      "outputs": [],
      "source": [
        "y_naph_PRK = df1[0].values"
      ]
    },
    {
      "cell_type": "code",
      "execution_count": null,
      "metadata": {
        "id": "1wtWhzeBDnTx"
      },
      "outputs": [],
      "source": [
        "y_ANN = model_predictions('ANN\\solubility_model.csv')"
      ]
    },
    {
      "cell_type": "code",
      "execution_count": null,
      "metadata": {
        "id": "pytfF4qUDnTy"
      },
      "outputs": [],
      "source": [
        "evaluate_model(y_ANN, y_naph_PRK)"
      ]
    },
    {
      "cell_type": "code",
      "execution_count": null,
      "metadata": {
        "id": "H_g51XQCDnTz"
      },
      "outputs": [],
      "source": [
        "plot_predictions(y_ANN, y_naph_PRK)"
      ]
    },
    {
      "cell_type": "markdown",
      "source": [
        "### Compare Results"
      ],
      "metadata": {
        "id": "cbu_fhc5H9jy"
      }
    },
    {
      "cell_type": "code",
      "source": [
        "df = pd.read_excel('ExcelFiles\\y_naph_PRK.xlsx')\n",
        "P_num = df[1]\n",
        "y_naph = df[0] "
      ],
      "metadata": {
        "id": "f_3Xi3VFH8MR"
      },
      "execution_count": null,
      "outputs": []
    },
    {
      "cell_type": "code",
      "source": [
        "df = pd.read_excel('ExcelFiles\\y_naph_PRK_coethanol.xlsx')\n",
        "P_eth = df[1]\n",
        "y_naph_eth = df[0]  "
      ],
      "metadata": {
        "id": "4J5FhEh0IFZ8"
      },
      "execution_count": null,
      "outputs": []
    },
    {
      "cell_type": "code",
      "source": [
        "df = pd.read_excel('ExcelFiles\\y_naph_PRK_co_nheptane.xlsx')\n",
        "P_hep = df[1]\n",
        "y_naph_hep = df[0] "
      ],
      "metadata": {
        "id": "A7AKwQHJIItc"
      },
      "execution_count": null,
      "outputs": []
    },
    {
      "cell_type": "code",
      "source": [
        "    # Create figure and add axes object\n",
        "fig = plt.figure()\n",
        "\n",
        "mpl.rcParams['font.family'] = 'Helvetica'\n",
        "plt.rcParams['font.size'] = 20\n",
        "plt.rcParams['axes.linewidth'] = 2\n",
        "\n",
        "ax = fig.add_axes([0, 0, 1, 1])\n",
        "ax.set_xlim(0.1, 20)\n",
        "ax.plot(P_eth, y_naph_eth, color='red', label='$ethanol$')\n",
        "ax.plot(P_hep, y_naph_hep, color='b', label='$n-heptane$')\n",
        "# ax.plot(P_num, y_naph)\n",
        "\n",
        "plt.xlabel('$P (MPa)$')\n",
        "plt.ylabel('$log(y_{i})$')\n",
        "plt.legend(loc='lower right', prop={'size': 15})\n",
        "plt.yscale(\"log\")\n",
        "plt.show()"
      ],
      "metadata": {
        "id": "7gdZsTqYILLZ"
      },
      "execution_count": null,
      "outputs": []
    }
  ],
  "metadata": {
    "interpreter": {
      "hash": "d25acb798dd971b8406457b7ad6fc86c68804576b08111a6ac00cea3a6710ac0"
    },
    "kernelspec": {
      "display_name": "Python 3 (ipykernel)",
      "language": "python",
      "name": "python3"
    },
    "language_info": {
      "codemirror_mode": {
        "name": "ipython",
        "version": 3
      },
      "file_extension": ".py",
      "mimetype": "text/x-python",
      "name": "python",
      "nbconvert_exporter": "python",
      "pygments_lexer": "ipython3",
      "version": "3.8.10"
    },
    "colab": {
      "name": "solubility_with_cosolvents.ipynb",
      "provenance": [],
      "collapsed_sections": [],
      "include_colab_link": true
    }
  },
  "nbformat": 4,
  "nbformat_minor": 0
}